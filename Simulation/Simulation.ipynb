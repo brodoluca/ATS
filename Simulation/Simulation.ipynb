{
 "cells": [
  {
   "cell_type": "code",
   "execution_count": 24,
   "metadata": {},
   "outputs": [],
   "source": [
    "import networkx as nx\n",
    "import pandas as pd\n",
    "import numpy as np\n",
    "import pulp\n",
    "df = pd.read_csv(\"dataset/finished_dataset.csv\")\n",
    "\n",
    "# Load the graph from the Pickle file\n",
    "graph_from_routes = nx.read_gpickle(\"graph_from_routes_wd.pkl\")\n"
   ]
  },
  {
   "cell_type": "code",
   "execution_count": 25,
   "metadata": {},
   "outputs": [
    {
     "data": {
      "text/html": [
       "<div>\n",
       "<style scoped>\n",
       "    .dataframe tbody tr th:only-of-type {\n",
       "        vertical-align: middle;\n",
       "    }\n",
       "\n",
       "    .dataframe tbody tr th {\n",
       "        vertical-align: top;\n",
       "    }\n",
       "\n",
       "    .dataframe thead th {\n",
       "        text-align: right;\n",
       "    }\n",
       "</style>\n",
       "<table border=\"1\" class=\"dataframe\">\n",
       "  <thead>\n",
       "    <tr style=\"text-align: right;\">\n",
       "      <th></th>\n",
       "      <th>Unnamed: 0.1</th>\n",
       "      <th>Unnamed: 0</th>\n",
       "      <th>id</th>\n",
       "      <th>vendor_id</th>\n",
       "      <th>pickup_datetime</th>\n",
       "      <th>dropoff_datetime</th>\n",
       "      <th>passenger_count</th>\n",
       "      <th>pickup_longitude</th>\n",
       "      <th>pickup_latitude</th>\n",
       "      <th>dropoff_longitude</th>\n",
       "      <th>dropoff_latitude</th>\n",
       "      <th>store_and_fwd_flag</th>\n",
       "      <th>trip_duration</th>\n",
       "      <th>pickup_date</th>\n",
       "      <th>location_pickup</th>\n",
       "      <th>location_dropoff</th>\n",
       "      <th>pickup_graph_node</th>\n",
       "      <th>dropoff_graph_node</th>\n",
       "    </tr>\n",
       "  </thead>\n",
       "  <tbody>\n",
       "    <tr>\n",
       "      <th>0</th>\n",
       "      <td>0</td>\n",
       "      <td>0</td>\n",
       "      <td>id2875421</td>\n",
       "      <td>2</td>\n",
       "      <td>2016-03-14 17:24:55</td>\n",
       "      <td>2016-03-14 17:32:30</td>\n",
       "      <td>1</td>\n",
       "      <td>-73.982155</td>\n",
       "      <td>40.767937</td>\n",
       "      <td>-73.964630</td>\n",
       "      <td>40.765602</td>\n",
       "      <td>N</td>\n",
       "      <td>455</td>\n",
       "      <td>2016-03-14</td>\n",
       "      <td>5</td>\n",
       "      <td>22</td>\n",
       "      <td>42435716</td>\n",
       "      <td>42447076</td>\n",
       "    </tr>\n",
       "    <tr>\n",
       "      <th>1</th>\n",
       "      <td>1</td>\n",
       "      <td>42</td>\n",
       "      <td>id2129090</td>\n",
       "      <td>1</td>\n",
       "      <td>2016-03-14 14:05:39</td>\n",
       "      <td>2016-03-14 14:28:05</td>\n",
       "      <td>1</td>\n",
       "      <td>-73.975090</td>\n",
       "      <td>40.758766</td>\n",
       "      <td>-73.953201</td>\n",
       "      <td>40.765068</td>\n",
       "      <td>N</td>\n",
       "      <td>1346</td>\n",
       "      <td>2016-03-14</td>\n",
       "      <td>12</td>\n",
       "      <td>11</td>\n",
       "      <td>42445926</td>\n",
       "      <td>42429694</td>\n",
       "    </tr>\n",
       "    <tr>\n",
       "      <th>2</th>\n",
       "      <td>2</td>\n",
       "      <td>58</td>\n",
       "      <td>id0256505</td>\n",
       "      <td>1</td>\n",
       "      <td>2016-03-14 15:04:38</td>\n",
       "      <td>2016-03-14 15:16:13</td>\n",
       "      <td>1</td>\n",
       "      <td>-73.994484</td>\n",
       "      <td>40.745087</td>\n",
       "      <td>-73.998993</td>\n",
       "      <td>40.722710</td>\n",
       "      <td>N</td>\n",
       "      <td>695</td>\n",
       "      <td>2016-03-14</td>\n",
       "      <td>30</td>\n",
       "      <td>4</td>\n",
       "      <td>42437890</td>\n",
       "      <td>42458267</td>\n",
       "    </tr>\n",
       "    <tr>\n",
       "      <th>3</th>\n",
       "      <td>3</td>\n",
       "      <td>103</td>\n",
       "      <td>id3502065</td>\n",
       "      <td>1</td>\n",
       "      <td>2016-03-15 21:03:44</td>\n",
       "      <td>2016-03-15 21:14:37</td>\n",
       "      <td>1</td>\n",
       "      <td>-73.974014</td>\n",
       "      <td>40.757153</td>\n",
       "      <td>-73.949738</td>\n",
       "      <td>40.777092</td>\n",
       "      <td>N</td>\n",
       "      <td>653</td>\n",
       "      <td>2016-03-15</td>\n",
       "      <td>12</td>\n",
       "      <td>59</td>\n",
       "      <td>42445926</td>\n",
       "      <td>42448254</td>\n",
       "    </tr>\n",
       "    <tr>\n",
       "      <th>4</th>\n",
       "      <td>4</td>\n",
       "      <td>374</td>\n",
       "      <td>id3817493</td>\n",
       "      <td>2</td>\n",
       "      <td>2016-03-14 14:57:56</td>\n",
       "      <td>2016-03-14 15:15:26</td>\n",
       "      <td>1</td>\n",
       "      <td>-73.952881</td>\n",
       "      <td>40.766468</td>\n",
       "      <td>-73.978630</td>\n",
       "      <td>40.761921</td>\n",
       "      <td>N</td>\n",
       "      <td>1050</td>\n",
       "      <td>2016-03-14</td>\n",
       "      <td>11</td>\n",
       "      <td>29</td>\n",
       "      <td>42429694</td>\n",
       "      <td>42440012</td>\n",
       "    </tr>\n",
       "  </tbody>\n",
       "</table>\n",
       "</div>"
      ],
      "text/plain": [
       "   Unnamed: 0.1  Unnamed: 0         id  vendor_id      pickup_datetime  \\\n",
       "0             0           0  id2875421          2  2016-03-14 17:24:55   \n",
       "1             1          42  id2129090          1  2016-03-14 14:05:39   \n",
       "2             2          58  id0256505          1  2016-03-14 15:04:38   \n",
       "3             3         103  id3502065          1  2016-03-15 21:03:44   \n",
       "4             4         374  id3817493          2  2016-03-14 14:57:56   \n",
       "\n",
       "      dropoff_datetime  passenger_count  pickup_longitude  pickup_latitude  \\\n",
       "0  2016-03-14 17:32:30                1        -73.982155        40.767937   \n",
       "1  2016-03-14 14:28:05                1        -73.975090        40.758766   \n",
       "2  2016-03-14 15:16:13                1        -73.994484        40.745087   \n",
       "3  2016-03-15 21:14:37                1        -73.974014        40.757153   \n",
       "4  2016-03-14 15:15:26                1        -73.952881        40.766468   \n",
       "\n",
       "   dropoff_longitude  dropoff_latitude store_and_fwd_flag  trip_duration  \\\n",
       "0         -73.964630         40.765602                  N            455   \n",
       "1         -73.953201         40.765068                  N           1346   \n",
       "2         -73.998993         40.722710                  N            695   \n",
       "3         -73.949738         40.777092                  N            653   \n",
       "4         -73.978630         40.761921                  N           1050   \n",
       "\n",
       "  pickup_date  location_pickup  location_dropoff  pickup_graph_node  \\\n",
       "0  2016-03-14                5                22           42435716   \n",
       "1  2016-03-14               12                11           42445926   \n",
       "2  2016-03-14               30                 4           42437890   \n",
       "3  2016-03-15               12                59           42445926   \n",
       "4  2016-03-14               11                29           42429694   \n",
       "\n",
       "   dropoff_graph_node  \n",
       "0            42447076  \n",
       "1            42429694  \n",
       "2            42458267  \n",
       "3            42448254  \n",
       "4            42440012  "
      ]
     },
     "execution_count": 25,
     "metadata": {},
     "output_type": "execute_result"
    }
   ],
   "source": [
    "df.head()"
   ]
  },
  {
   "cell_type": "code",
   "execution_count": 26,
   "metadata": {},
   "outputs": [],
   "source": [
    "graph = graph_from_routes.copy()"
   ]
  },
  {
   "cell_type": "code",
   "execution_count": 27,
   "metadata": {},
   "outputs": [],
   "source": [
    "for i, node in enumerate(graph.nodes()):\n",
    "    graph.nodes[node]['id'] = i"
   ]
  },
  {
   "cell_type": "code",
   "execution_count": 28,
   "metadata": {},
   "outputs": [],
   "source": [
    "def distance_matrix_from_graph(G):\n",
    "    \"\"\"\n",
    "    Create a distance matrix from a networkx graph.\n",
    "    \"\"\"\n",
    "    num_nodes = len(G.nodes)\n",
    "    distance_matrix = [[0] * num_nodes for _ in range(num_nodes)]\n",
    "    for u in range(num_nodes):\n",
    "        for v in range(num_nodes):\n",
    "            if u != v:\n",
    "                distance_matrix[u][v] = nx.shortest_path_length(G, source=u, target=v, weight='weight')\n",
    "    return distance_matrix\n",
    "\n"
   ]
  },
  {
   "cell_type": "code",
   "execution_count": 29,
   "metadata": {},
   "outputs": [],
   "source": [
    "class Vehicle():\n",
    "    def __init__(self, id, pcapacity=4,gcapacity = 10, \n",
    "                 discharge_rate = 1.5, \n",
    "                 start_depot = 0, \n",
    "                 end_depot = 0 ):\n",
    "        self.id = id\n",
    "        self.pcapacity_ = pcapacity\n",
    "        self.pcapacity_ = gcapacity\n",
    "        self.r_ = discharge_rate\n",
    "        self.charge = 100\n",
    "        self.start_depot = start_depot\n",
    "        self.end_depot = end_depot\n",
    "        self.requests_ ={}\n",
    "    def update_requests(self, id, start, dest):\n",
    "        self.requests_[id] = (start,dest)\n",
    "    def update_requests(self, request):\n",
    "        self.requests_[request.id] = (request.start,request.dest)\n",
    "\n",
    "    def update_charge(self,distance, speed = 50):\n",
    "        self.charge -=  distance/speed * self.r_\n"
   ]
  },
  {
   "cell_type": "code",
   "execution_count": 30,
   "metadata": {},
   "outputs": [],
   "source": [
    "from enum import Enum\n",
    "class Charger(Enum):\n",
    "    SLOW = (1,0.6)\n",
    "    MEDIUM = (1,0.8)\n",
    "    FAST = (2,0.8)\n",
    "\n",
    "class Depot():\n",
    "    def __init__(self, node_id, type = Charger.SLOW, vcapacity = 50, vehicles_now = 25) -> None:\n",
    "        self.id = node_id\n",
    "        self.r, self.omega = type.value\n",
    "        self.vcapacity_ = vcapacity\n",
    "        self.vehicles_now = vehicles_now\n"
   ]
  },
  {
   "cell_type": "code",
   "execution_count": 31,
   "metadata": {},
   "outputs": [],
   "source": [
    "class Request():\n",
    "    def __init__(self, id, people, start, dest) -> None:\n",
    "        self.id = id\n",
    "        self.people_ = people\n",
    "        self.start = start\n",
    "        self.dest = dest \n"
   ]
  },
  {
   "cell_type": "code",
   "execution_count": 32,
   "metadata": {},
   "outputs": [],
   "source": [
    "def convert_reqs_to_obj(requests, required_info = [\"id\", \"passenger_count\", \"pickup_graph_node\",\"dropoff_graph_node\"]):\n",
    "    reqs_obj = {}\n",
    "    for node, item in requests.items():\n",
    "        amount = item[\"amount\"]\n",
    "        temp_reqs = []\n",
    "        for k in item[\"internal_ids\"]:\n",
    "            temp_reqs += [\n",
    "                        Request( *[item[x][k] for x in required_info])\n",
    "                        ]\n",
    "        reqs_obj[node] = temp_reqs\n",
    "    \n",
    "    return reqs_obj"
   ]
  },
  {
   "cell_type": "code",
   "execution_count": 143,
   "metadata": {},
   "outputs": [],
   "source": [
    "def convert_reqs_to_list(requests, required_info = [\"id\", \"passenger_count\", \"pickup_graph_node\",\"dropoff_graph_node\"]):\n",
    "    temp_reqs = []\n",
    "    for node, item in requests.items():\n",
    "        amount = item[\"amount\"]\n",
    "        for k in item[\"internal_ids\"]:\n",
    "            temp_reqs += [\n",
    "                        Request( *[item[x][k] for x in required_info])\n",
    "                        ]\n",
    "    print(len(temp_reqs))\n",
    "    return temp_reqs"
   ]
  },
  {
   "cell_type": "code",
   "execution_count": 144,
   "metadata": {},
   "outputs": [],
   "source": [
    "def get_requests(dataframe, required_info = [\"amount\",\"internal_ids\", \"id\", \"passenger_count\", \"pickup_graph_node\",\"dropoff_graph_node\"]):\n",
    "    requests = {}\n",
    "    pick_up_nodes = np.unique(dataframe[\"pickup_graph_node\"])\n",
    "    \n",
    "    for node in pick_up_nodes:\n",
    "        temp_dict = dataframe[dataframe[\"pickup_graph_node\"]==node].to_dict()\n",
    "        temp_dict[\"amount\"] = len(temp_dict[\"id\"])\n",
    "        temp_dict[\"internal_ids\"] = list(temp_dict[\"id\"].keys())\n",
    "        requests[node] = {x:temp_dict[x] for x in required_info}\n",
    "    reqs_obj = convert_reqs_to_obj(requests)\n",
    "    reqs_list = convert_reqs_to_list(requests)\n",
    "    return requests, reqs_obj, reqs_list"
   ]
  },
  {
   "cell_type": "code",
   "execution_count": 145,
   "metadata": {},
   "outputs": [],
   "source": [
    "def initialize_depots(graph, vehicles_amount = [1]*5,type = [Charger.FAST]*5 ):\n",
    "    depots = []\n",
    "    idx = 0\n",
    "    for node_id, data in graph.nodes(data = True):\n",
    "        if data[\"depot\"]:\n",
    "            depots += [Depot(node_id, type = type[idx], vehicles_now = vehicles_amount[idx])]\n",
    "            idx += 1\n",
    "    return depots"
   ]
  },
  {
   "cell_type": "code",
   "execution_count": 146,
   "metadata": {},
   "outputs": [],
   "source": [
    "def initialize_vehicles_naive(depots):\n",
    "    vehicles = []\n",
    "    #Calculate the amount of vehicles at the beginning\n",
    "    n_vehicles = sum(d.vehicles_now for d in depots)\n",
    "    for i,d in enumerate(depots):\n",
    "        vehicles+= [Vehicle(id = i ,\n",
    "                            pcapacity=4, \n",
    "                            gcapacity=10, \n",
    "                            discharge_rate=1,\n",
    "                            start_depot= d.id,\n",
    "                             end_depot= d.id) for i in range(d.vehicles_now*(i), d.vehicles_now * (i+1))]\n",
    "    return vehicles, n_vehicles"
   ]
  },
  {
   "cell_type": "code",
   "execution_count": 147,
   "metadata": {},
   "outputs": [],
   "source": [
    "depots = initialize_depots(graph)\n",
    "vehicles, n_vehicles = initialize_vehicles_naive(depots)"
   ]
  },
  {
   "cell_type": "code",
   "execution_count": 148,
   "metadata": {},
   "outputs": [
    {
     "name": "stdout",
     "output_type": "stream",
     "text": [
      "10\n",
      "[<__main__.Request object at 0x7f78113b2c40>, <__main__.Request object at 0x7f78113b2f10>, <__main__.Request object at 0x7f78113b2d90>, <__main__.Request object at 0x7f78113b2e80>, <__main__.Request object at 0x7f78113b2ca0>, <__main__.Request object at 0x7f78113b2f40>, <__main__.Request object at 0x7f78113b2be0>, <__main__.Request object at 0x7f78113b2c10>, <__main__.Request object at 0x7f781139eac0>, <__main__.Request object at 0x7f781139ec70>]\n"
     ]
    }
   ],
   "source": [
    "_, _, requests = get_requests(df[:10])\n",
    "print(requests)"
   ]
  },
  {
   "cell_type": "code",
   "execution_count": 134,
   "metadata": {},
   "outputs": [
    {
     "name": "stdout",
     "output_type": "stream",
     "text": [
      "1410\n"
     ]
    }
   ],
   "source": [
    "print(len(graph.edges())*n_vehicles)"
   ]
  },
  {
   "cell_type": "code",
   "execution_count": 135,
   "metadata": {},
   "outputs": [
    {
     "data": {
      "text/plain": [
       "22"
      ]
     },
     "execution_count": 135,
     "metadata": {},
     "output_type": "execute_result"
    }
   ],
   "source": [
    "list(graph.nodes()).index(42447076)"
   ]
  },
  {
   "cell_type": "code",
   "execution_count": 136,
   "metadata": {},
   "outputs": [],
   "source": [
    "def make_double_sense(G):\n",
    "    for u in G.nodes():\n",
    "        for v in G.nodes():\n",
    "            # Check if the edge (u, v) does not already exist and if u != v\n",
    "            if u != v and G.has_edge(u, v):\n",
    "                # Add the edge (u, v) and (v, u)\n",
    "                G.add_edge(v, u)\n",
    "    return G\n",
    "\n",
    "graph = make_double_sense(graph)"
   ]
  },
  {
   "cell_type": "code",
   "execution_count": 137,
   "metadata": {},
   "outputs": [
    {
     "data": {
      "text/plain": [
       "True"
      ]
     },
     "execution_count": 137,
     "metadata": {},
     "output_type": "execute_result"
    }
   ],
   "source": [
    "(42429374, 42436439) in graph.edges()"
   ]
  },
  {
   "cell_type": "code",
   "execution_count": 138,
   "metadata": {},
   "outputs": [
    {
     "data": {
      "text/plain": [
       "282"
      ]
     },
     "execution_count": 138,
     "metadata": {},
     "output_type": "execute_result"
    }
   ],
   "source": [
    "len(graph.edges())"
   ]
  },
  {
   "cell_type": "code",
   "execution_count": 160,
   "metadata": {},
   "outputs": [],
   "source": [
    "def create_problem(graph,depots, vehicles, requests, name=\"VehicleRoutingProblem\"):\n",
    "    problem = pulp.LpProblem(name, pulp.LpMinimize)\n",
    "\n",
    "    #Routing variable\n",
    "    V = {}\n",
    "    for a in vehicles:\n",
    "        for u in graph.nodes():\n",
    "            for v in graph.nodes():\n",
    "                if graph.has_edge(u, v):\n",
    "                    V[a.id,u, v]= pulp.LpVariable(f\"V^{a.id}_{u}_{v}\", cat='Binary') \n",
    "    \n",
    "    #Request Assigning variable\n",
    "    x = {}\n",
    "    for a in vehicles:\n",
    "        for r in requests:\n",
    "            x[a.id,r.id]= pulp.LpVariable(f\"x{a.id},{r.id}\", cat='Binary') \n",
    "\n",
    "\n",
    "\n",
    "    # Define the objective function: minimize un assigned requests\n",
    "    problem += pulp.lpSum(x[a.id,r.id] for a in vehicles for r in requests)\n",
    "\n",
    "\n",
    "\n",
    "    #(4.5)\n",
    "    for a in vehicles:\n",
    "        problem += pulp.lpSum(x[a.id,r.id]*r.people_ for r in requests) <= a.pcapacity_\n",
    "\n",
    "    #(4.16)\n",
    "    for a in vehicles:\n",
    "        temp_list = list(graph.nodes()).copy()\n",
    "        temp_list.remove(a.start_depot)\n",
    "        if a.start_depot != a.end_depot:\n",
    "            temp_list.remove(a.end_depot)\n",
    "        for v in temp_list:\n",
    "            problem += pulp.lpSum(V[a.id,u, v] for u in temp_list if graph.has_edge(u, v)) \\\n",
    "                    - pulp.lpSum(V[a.id,v, w] for w in temp_list if graph.has_edge(v, w)) == 0\n",
    "    \n",
    "    #(4.17), #(4.18)\n",
    "    for a in vehicles:\n",
    "        problem += pulp.lpSum(V[a.id,a.start_depot, v] for v in temp_list if graph.has_edge(a.start_depot, v)) ==1\n",
    "        if a.start_depot != a.end_depot:\n",
    "            problem += pulp.lpSum(V[a.id,a.end_depot, v] for v in temp_list if graph.has_edge(a.end_depot, v)) ==1\n",
    "    \n",
    "\n",
    "    #(4.19), #(4.20)\n",
    "    \"\"\"       NO ASSIGNMENT \n",
    "    for a in vehicles:\n",
    "        problem += pulp.lpSum(V[a.id,a.start_depot, v] for v in temp_list if graph.has_edge(a.start_depot, v)) ==1\n",
    "        if a.start_depot != a.end_depot:\n",
    "            problem += pulp.lpSum(V[a.id,a.end_depot, v] for v in temp_list if graph.has_edge(a.end_depot, v)) ==1\n",
    "    \"\"\"\n",
    "    #(4.25), #(4.26)\n",
    "    for r in requests:\n",
    "        for a in vehicles:\n",
    "            problem += pulp.lpSum(V[a.id,r.start, v] for v in temp_list if graph.has_edge(r.start, v)) ==x[a.id,r.id]\n",
    "            if a.start_depot != a.end_depot:\n",
    "                problem += pulp.lpSum(V[a.id,r.end, v] for v in temp_list if graph.has_edge(r.end, v)) ==x[a.id,r.id]\n",
    "    \n",
    "    return problem"
   ]
  },
  {
   "cell_type": "code",
   "execution_count": 162,
   "metadata": {},
   "outputs": [],
   "source": [
    "problem = create_problem(graph,depots, vehicles, requests)"
   ]
  },
  {
   "cell_type": "code",
   "execution_count": 163,
   "metadata": {},
   "outputs": [
    {
     "name": "stdout",
     "output_type": "stream",
     "text": [
      "Welcome to the CBC MILP Solver \n",
      "Version: 2.10.3 \n",
      "Build Date: Dec 15 2019 \n",
      "\n",
      "command line - /Library/Frameworks/Python.framework/Versions/3.9/lib/python3.9/site-packages/pulp/solverdir/cbc/osx/64/cbc /var/folders/b6/t14lv28n5xqdhgq7zcrqwfkm0000gn/T/8c3784f3ca9c4403a88253d4d56d170a-pulp.mps timeMode elapsed branch printingOptions all solution /var/folders/b6/t14lv28n5xqdhgq7zcrqwfkm0000gn/T/8c3784f3ca9c4403a88253d4d56d170a-pulp.sol (default strategy 1)\n",
      "At line 2 NAME          MODEL\n",
      "At line 3 ROWS\n",
      "At line 435 COLUMNS\n",
      "At line 12029 RHS\n",
      "At line 12460 BOUNDS\n",
      "At line 15272 ENDATA\n",
      "Problem MODEL has 430 rows, 2811 columns and 5901 elements\n",
      "Coin0008I MODEL read with 0 errors\n",
      "Option for timeMode changed from cpu to elapsed\n",
      "Continuous objective value is 0 - 0.00 seconds\n",
      "Cgl0003I 0 fixed, 0 tightened bounds, 0 strengthened rows, 70 substitutions\n",
      "Cgl0004I processed model has 400 rows, 2723 columns (2723 integer (2723 of which binary)) and 5628 elements\n",
      "Cutoff increment increased from 1e-05 to 0.9999\n",
      "Cbc0038I Initial state - 0 integers unsatisfied sum - 0\n",
      "Cbc0038I Solution found of -0\n",
      "Cbc0038I Before mini branch and bound, 2723 integers at bound fixed and 0 continuous\n",
      "Cbc0038I Mini branch and bound did not improve solution (0.04 seconds)\n",
      "Cbc0038I After 0.04 seconds - Feasibility pump exiting with objective of -0 - took 0.00 seconds\n",
      "Cbc0012I Integer solution of -0 found by feasibility pump after 0 iterations and 0 nodes (0.04 seconds)\n",
      "Cbc0001I Search completed - best objective -0, took 0 iterations and 0 nodes (0.04 seconds)\n",
      "Cbc0035I Maximum depth 0, 0 variables fixed on reduced cost\n",
      "Cuts at root node changed objective from 0 to 0\n",
      "Probing was tried 0 times and created 0 cuts of which 0 were active after adding rounds of cuts (0.000 seconds)\n",
      "Gomory was tried 0 times and created 0 cuts of which 0 were active after adding rounds of cuts (0.000 seconds)\n",
      "Knapsack was tried 0 times and created 0 cuts of which 0 were active after adding rounds of cuts (0.000 seconds)\n",
      "Clique was tried 0 times and created 0 cuts of which 0 were active after adding rounds of cuts (0.000 seconds)\n",
      "MixedIntegerRounding2 was tried 0 times and created 0 cuts of which 0 were active after adding rounds of cuts (0.000 seconds)\n",
      "FlowCover was tried 0 times and created 0 cuts of which 0 were active after adding rounds of cuts (0.000 seconds)\n",
      "TwoMirCuts was tried 0 times and created 0 cuts of which 0 were active after adding rounds of cuts (0.000 seconds)\n",
      "ZeroHalf was tried 0 times and created 0 cuts of which 0 were active after adding rounds of cuts (0.000 seconds)\n",
      "\n",
      "Result - Optimal solution found\n",
      "\n",
      "Objective value:                -0.00000000\n",
      "Enumerated nodes:               0\n",
      "Total iterations:               0\n",
      "Time (CPU seconds):             0.03\n",
      "Time (Wallclock seconds):       0.04\n",
      "\n",
      "Option for printingOptions changed from normal to all\n",
      "Total time (CPU seconds):       0.04   (Wallclock seconds):       0.05\n",
      "\n"
     ]
    },
    {
     "data": {
      "text/plain": [
       "1"
      ]
     },
     "execution_count": 163,
     "metadata": {},
     "output_type": "execute_result"
    }
   ],
   "source": [
    "problem.solve()"
   ]
  },
  {
   "cell_type": "code",
   "execution_count": 164,
   "metadata": {},
   "outputs": [
    {
     "name": "stdout",
     "output_type": "stream",
     "text": [
      "Status: Optimal\n",
      "Total Distance: 0.0\n"
     ]
    }
   ],
   "source": [
    "print(\"Status:\", pulp.LpStatus[problem.status])\n",
    "print(\"unserved requests:\", pulp.value(problem.objective))\n"
   ]
  },
  {
   "cell_type": "code",
   "execution_count": null,
   "metadata": {},
   "outputs": [],
   "source": []
  }
 ],
 "metadata": {
  "kernelspec": {
   "display_name": "Python 3",
   "language": "python",
   "name": "python3"
  },
  "language_info": {
   "codemirror_mode": {
    "name": "ipython",
    "version": 3
   },
   "file_extension": ".py",
   "mimetype": "text/x-python",
   "name": "python",
   "nbconvert_exporter": "python",
   "pygments_lexer": "ipython3",
   "version": "3.9.4"
  }
 },
 "nbformat": 4,
 "nbformat_minor": 2
}
